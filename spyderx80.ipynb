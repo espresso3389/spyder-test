{
  "cells": [
    {
      "cell_type": "markdown",
      "metadata": {},
      "source": [
        "# Christie Spyder X80\n",
        "\n",
        "![](https://christiedigital.imgix.net/globalassets/.catalog/products/image-processors/christie-spyder-x80-hero1.png?auto=format,compress)\n",
        "\n",
        "- [Spyder X80](https://www.christiedigital.com/products/image-processors/christie-spyder-x80/)\n",
        "\n",
        "- [Technical Reference 020-102207-08 Spyder X80 Serial Commands](https://www.christiedigital.com/globalassets/resources/public/020-102207-08-christie-lit-man-ref-spyder-commands.pdf)"
      ]
    },
    {
      "cell_type": "markdown",
      "metadata": {},
      "source": [
        "## Initializing UDP client\n",
        "\n",
        "Initializing UDP client with arbitrary port on the local machine."
      ]
    },
    {
      "cell_type": "code",
      "execution_count": null,
      "metadata": {
        "dotnet_interactive": {
          "language": "csharp"
        },
        "vscode": {
          "languageId": "dotnet-interactive.csharp"
        }
      },
      "outputs": [],
      "source": [
        "using System.Net;\n",
        "using System.Net.Sockets;\n",
        "\n",
        "var udp = new UdpClient(new IPEndPoint(IPAddress.Any, 0));"
      ]
    },
    {
      "cell_type": "markdown",
      "metadata": {},
      "source": [
        "## Receiving command processor responses\n",
        "\n",
        "[Command processor responses](https://www.christiedigital.com/globalassets/resources/public/020-102207-08-christie-lit-man-ref-spyder-commands.pdf#page=10) explains about the format of the command response. It also explains the Spyder response codes."
      ]
    },
    {
      "cell_type": "code",
      "execution_count": null,
      "metadata": {
        "dotnet_interactive": {
          "language": "csharp"
        },
        "vscode": {
          "languageId": "dotnet-interactive.csharp"
        }
      },
      "outputs": [],
      "source": [
        "enum SpyderResponseCode\n",
        "{\n",
        "    /// The command was successfully processed.\n",
        "    Success = 0,\n",
        "    /// The data requested is not available.\n",
        "    Empty,\n",
        "    /// An invalid command was specified.\n",
        "    Header,\n",
        "    /// The command is missing the required minimum number of\n",
        "    ArgumentCount,\n",
        "    /// One or more arguments of the command were invalid.\n",
        "    ArgumentValue,\n",
        "    /// An error occurred while processing the command. For details, check the Alert Viewer in Spyder Studio.\n",
        "    Execution,\n",
        "    /// Reserved.\n",
        "    Checksum,\n",
        "}\n",
        "\n",
        "struct UdpState\n",
        "{\n",
        "    public UdpClient u;\n",
        "    public IPEndPoint e;\n",
        "}\n",
        "\n",
        "udp.BeginReceive((AsyncCallback)((result) => {\n",
        "    var state = (UdpState)result.AsyncState;\n",
        "    var received = Encoding.ASCII.GetString(state.u.EndReceive(result, ref state.e));\n",
        "    var elems = received.Split(' ');\n",
        "    var code = int.Parse(elems[0]);\n",
        "    Console.WriteLine($\"Received: {code}\");\n",
        "}), null);"
      ]
    },
    {
      "cell_type": "markdown",
      "metadata": {},
      "source": [
        "## Send command\n",
        "\n",
        "According to [Communicating with Spyder](https://www.christiedigital.com/globalassets/resources/public/020-102207-08-christie-lit-man-ref-spyder-commands.pdf#page=8), to send command to Spyder, every command packet should be prefixed by 10 byte header `spyder\\0\\0\\0\\0`."
      ]
    },
    {
      "cell_type": "code",
      "execution_count": null,
      "metadata": {
        "dotnet_interactive": {
          "language": "csharp"
        },
        "vscode": {
          "languageId": "dotnet-interactive.csharp"
        }
      },
      "outputs": [],
      "source": [
        "async Task Send(IPEndPoint endPoint, string command)\n",
        "{\n",
        "    var data = Encoding.UTF8.GetBytes(\"spyder\\0\\0\\0\\0\" + command);\n",
        "    await udp.SendAsync(data, data.Length, endPoint);\n",
        "}"
      ]
    },
    {
      "cell_type": "markdown",
      "metadata": {},
      "source": [
        "## Connecting to Spyder\n",
        "\n",
        "Spyder awaits incoming UDP packets on port 11116."
      ]
    },
    {
      "cell_type": "code",
      "execution_count": null,
      "metadata": {
        "dotnet_interactive": {
          "language": "csharp"
        },
        "vscode": {
          "languageId": "dotnet-interactive.csharp"
        }
      },
      "outputs": [],
      "source": [
        "var dest = IPEndPoint.Parse(\"192.168.0.155:11116\");"
      ]
    },
    {
      "cell_type": "markdown",
      "metadata": {},
      "source": [
        "## Initialize layer\n",
        "\n",
        "### Obtain sources associated to layers\n",
        "\n",
        "[RSN](https://www.christiedigital.com/globalassets/resources/public/020-102207-08-christie-lit-man-ref-spyder-commands.pdf#page=97) command is used to obtain all layer-source mapping:\n",
        "\n",
        "```\n",
        "RSN\n",
        "```\n",
        "\n",
        "### Assign Source to Layers\n",
        "\n",
        "[SRA](https://www.christiedigital.com/globalassets/resources/public/020-102207-08-christie-lit-man-ref-spyder-commands.pdf#page=105) command is used to associate a source specified by its name to multiple layers (arguments are `SOURCE_NAME LAYERS...`):\n",
        "\n",
        "```\n",
        "SRA Name 2 3 4\n",
        "```\n",
        "\n",
        "### Transition (Show/Hide)\n",
        "\n",
        "[TRN](https://www.christiedigital.com/globalassets/resources/public/020-102207-08-christie-lit-man-ref-spyder-commands.pdf#page=110) command is used to show(`1`)/hide(`0`) specified layers with specified duration. The second parameter is in number of frames (60-fps).\n",
        "\n",
        "```\n",
        "TRN 1 0 2 3 4\n",
        "```\n",
        "\n"
      ]
    },
    {
      "cell_type": "code",
      "execution_count": null,
      "metadata": {
        "dotnet_interactive": {
          "language": "csharp"
        },
        "vscode": {
          "languageId": "dotnet-interactive.csharp"
        }
      },
      "outputs": [],
      "source": [
        "// Transition fade in 0-sec. layer=2,3,4\n",
        "await Send(dest, \"TRN 1 0 2 3 4\");"
      ]
    },
    {
      "cell_type": "markdown",
      "metadata": {},
      "source": [
        "## Move layer\n",
        "\n",
        "Use [LSP command](https://www.christiedigital.com/globalassets/resources/public/020-102207-08-christie-lit-man-ref-spyder-commands.pdf#page=55) to move the layer to specified pixel position."
      ]
    },
    {
      "cell_type": "code",
      "execution_count": null,
      "metadata": {
        "dotnet_interactive": {
          "language": "csharp"
        },
        "vscode": {
          "languageId": "dotnet-interactive.csharp"
        }
      },
      "outputs": [],
      "source": [
        "// Move Layer 3 to (200, 200) with width=1000\n",
        "await Send(dest, \"LSP 0 200 200 1000 3\");"
      ]
    }
  ],
  "metadata": {
    "kernelspec": {
      "display_name": ".NET (C#)",
      "language": "C#",
      "name": ".net-csharp"
    },
    "language_info": {
      "file_extension": ".cs",
      "mimetype": "text/x-csharp",
      "name": "C#",
      "pygments_lexer": "csharp",
      "version": "8.0"
    }
  },
  "nbformat": 4,
  "nbformat_minor": 4
}
